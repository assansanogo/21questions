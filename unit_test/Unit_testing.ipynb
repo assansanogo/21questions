{
  "nbformat": 4,
  "nbformat_minor": 0,
  "metadata": {
    "colab": {
      "name": "Unit_testing.ipynb",
      "provenance": [],
      "collapsed_sections": [
        "_Pf89aYlyxFy",
        "W6rIEs9Q7dLG",
        "nAzdDCgs7hXV",
        "F4oVedzX7njy",
        "M2CQRf2S8fkh"
      ]
    },
    "kernelspec": {
      "name": "python3",
      "display_name": "Python 3"
    },
    "language_info": {
      "name": "python"
    }
  },
  "cells": [
    {
      "cell_type": "markdown",
      "source": [
        "# A. DUMMY EXAMPLE : fake sum"
      ],
      "metadata": {
        "id": "_Pf89aYlyxFy"
      }
    },
    {
      "cell_type": "markdown",
      "source": [
        "> In this paragraph we are going to see <br>\n",
        "> how to write testing for a simple case: <br>\n",
        "> a function that performs addition, **but incorrectly**"
      ],
      "metadata": {
        "id": "_WeZFlg7wnT5"
      }
    },
    {
      "cell_type": "code",
      "source": [
        "# simple function which performs incorrectly an addition\n",
        "def summi(a,b):\n",
        "  return a*b"
      ],
      "metadata": {
        "id": "lV8GifsiwEIx"
      },
      "execution_count": 1,
      "outputs": []
    },
    {
      "cell_type": "code",
      "source": [
        "# we use the syntax with assert\n",
        "assert sum([1, 2, 3]) == 6, \"Should be 6\""
      ],
      "metadata": {
        "id": "IPbzDFxrwLkF"
      },
      "execution_count": 2,
      "outputs": []
    },
    {
      "cell_type": "code",
      "source": [
        "# we use the syntax with assert + function\n",
        "assert summi(3,3) == 6, \"As it is an addition, it should be 6\""
      ],
      "metadata": {
        "colab": {
          "base_uri": "https://localhost:8080/",
          "height": 184
        },
        "id": "lhMXoCuLwRed",
        "outputId": "86f964b7-a449-4704-9481-07a4fa20cd4f"
      },
      "execution_count": 3,
      "outputs": [
        {
          "output_type": "error",
          "ename": "AssertionError",
          "evalue": "ignored",
          "traceback": [
            "\u001b[0;31m---------------------------------------------------------------------------\u001b[0m",
            "\u001b[0;31mAssertionError\u001b[0m                            Traceback (most recent call last)",
            "\u001b[0;32m<ipython-input-3-de79a65d1622>\u001b[0m in \u001b[0;36m<module>\u001b[0;34m()\u001b[0m\n\u001b[1;32m      1\u001b[0m \u001b[0;31m# we use the syntax with assert + function\u001b[0m\u001b[0;34m\u001b[0m\u001b[0;34m\u001b[0m\u001b[0;34m\u001b[0m\u001b[0m\n\u001b[0;32m----> 2\u001b[0;31m \u001b[0;32massert\u001b[0m \u001b[0msummi\u001b[0m\u001b[0;34m(\u001b[0m\u001b[0;36m3\u001b[0m\u001b[0;34m,\u001b[0m\u001b[0;36m3\u001b[0m\u001b[0;34m)\u001b[0m \u001b[0;34m==\u001b[0m \u001b[0;36m6\u001b[0m\u001b[0;34m,\u001b[0m \u001b[0;34m\"As it is an addition, it should be 6\"\u001b[0m\u001b[0;34m\u001b[0m\u001b[0;34m\u001b[0m\u001b[0m\n\u001b[0m",
            "\u001b[0;31mAssertionError\u001b[0m: As it is an addition, it should be 6"
          ]
        }
      ]
    },
    {
      "cell_type": "code",
      "source": [
        "# we create an empty file\n",
        "# we will modify it on the right pane\n",
        "!touch my_first_tests.py"
      ],
      "metadata": {
        "id": "ZNCw3AAswYXo"
      },
      "execution_count": 4,
      "outputs": []
    },
    {
      "cell_type": "code",
      "source": [
        "import my_first_tests as mp"
      ],
      "metadata": {
        "id": "_eh5IE3KxvQr"
      },
      "execution_count": 5,
      "outputs": []
    },
    {
      "cell_type": "code",
      "source": [
        "mp.test_summi()"
      ],
      "metadata": {
        "colab": {
          "base_uri": "https://localhost:8080/",
          "height": 287
        },
        "id": "xbaXphMUyh-l",
        "outputId": "2124696a-b47a-401a-8063-4e52bf0f352c"
      },
      "execution_count": 6,
      "outputs": [
        {
          "output_type": "error",
          "ename": "AssertionError",
          "evalue": "ignored",
          "traceback": [
            "\u001b[0;31m---------------------------------------------------------------------------\u001b[0m",
            "\u001b[0;31mAssertionError\u001b[0m                            Traceback (most recent call last)",
            "\u001b[0;32m<ipython-input-6-272433d6b96c>\u001b[0m in \u001b[0;36m<module>\u001b[0;34m()\u001b[0m\n\u001b[0;32m----> 1\u001b[0;31m \u001b[0mmp\u001b[0m\u001b[0;34m.\u001b[0m\u001b[0mtest_summi\u001b[0m\u001b[0;34m(\u001b[0m\u001b[0;34m)\u001b[0m\u001b[0;34m\u001b[0m\u001b[0;34m\u001b[0m\u001b[0m\n\u001b[0m",
            "\u001b[0;32m/content/my_first_tests.py\u001b[0m in \u001b[0;36mtest_summi\u001b[0;34m()\u001b[0m\n\u001b[1;32m     16\u001b[0m   \u001b[0mtest\u001b[0m \u001b[0mfunction\u001b[0m \u001b[0mused\u001b[0m \u001b[0mto\u001b[0m \u001b[0mcheck\u001b[0m \u001b[0mtest_summi\u001b[0m\u001b[0;34m\u001b[0m\u001b[0;34m\u001b[0m\u001b[0m\n\u001b[1;32m     17\u001b[0m   '''\n\u001b[0;32m---> 18\u001b[0;31m   \u001b[0;32massert\u001b[0m \u001b[0msummi\u001b[0m\u001b[0;34m(\u001b[0m\u001b[0;36m3\u001b[0m\u001b[0;34m,\u001b[0m\u001b[0;36m3\u001b[0m\u001b[0;34m)\u001b[0m\u001b[0;34m==\u001b[0m\u001b[0;36m6\u001b[0m\u001b[0;34m,\u001b[0m\u001b[0;34m\"should have been 6 dude - even after too many beers.\"\u001b[0m\u001b[0;34m\u001b[0m\u001b[0;34m\u001b[0m\u001b[0m\n\u001b[0m\u001b[1;32m     19\u001b[0m   \u001b[0mprint\u001b[0m\u001b[0;34m(\u001b[0m\u001b[0;34m\"Everything passed\"\u001b[0m\u001b[0;34m)\u001b[0m\u001b[0;34m\u001b[0m\u001b[0;34m\u001b[0m\u001b[0m\n\u001b[1;32m     20\u001b[0m \u001b[0;34m\u001b[0m\u001b[0m\n",
            "\u001b[0;31mAssertionError\u001b[0m: should have been 6 dude - even after too many beers."
          ]
        }
      ]
    },
    {
      "cell_type": "markdown",
      "source": [
        "you can see Above how a mistake in your code  can yield an error in the console.\n",
        "You can read information about the location of the  error + expected result\n",
        "Writing the tests this way is OK, but not scalable. Here enter the test_runners."
      ],
      "metadata": {
        "id": "6E3oDVQVy6MK"
      }
    },
    {
      "cell_type": "markdown",
      "source": [
        "# B. TEST_RUNNERS 101"
      ],
      "metadata": {
        "id": "lv2ULeKtzQ3Y"
      }
    },
    {
      "cell_type": "markdown",
      "source": [
        "There are many solutions for you to write tests: **unittest**, **pytest** and **nose**\n",
        "\n",
        "##unittest\n",
        "\n",
        "unittest requires that:\n",
        "* tests are put into classes as methods\n",
        "* use special assertion methods used in unittest.TestCase\n",
        "( = no more assert xx == xxx)\n",
        "\n",
        "If we want to convert our example from above we must:\n",
        "\n",
        "\n",
        "* Import `unittest` from the standard library\n",
        "* Create a class called `TestSumFunction` that inherits from the TestCase class\n",
        "* Convert the test functions into **valid methods** according to the TestCase class\n",
        "* Change the assertions to use the self.assertEqual() method on the TestCase class\n",
        "* Change the command-line entry point to call `unittest.main()`\n"
      ],
      "metadata": {
        "id": "ZeN0RJ2szrkh"
      }
    },
    {
      "cell_type": "markdown",
      "source": [
        "## 1. My first unit test"
      ],
      "metadata": {
        "id": "W6rIEs9Q7dLG"
      }
    },
    {
      "cell_type": "code",
      "source": [
        "!touch mytest_run.py"
      ],
      "metadata": {
        "id": "XvH_rVLZ1nEa"
      },
      "execution_count": 7,
      "outputs": []
    },
    {
      "cell_type": "code",
      "source": [
        "import unittest\n",
        "from my_first_tests import summi\n",
        "\n",
        "class TestSumFunction(unittest.TestCase):\n",
        "  def test_sum(self):\n",
        "    \"\"\"\n",
        "    Test that it can assess if the results are equal to 6\n",
        "    \"\"\"\n",
        "    sum_results = summi(3, 3)\n",
        "    return self.assertEqual(sum_results, 6, msg= \"even after too many beers, 3+3=6\")\n",
        "\n",
        "if __name__ == '__main__':\n",
        "    unittest.main()"
      ],
      "metadata": {
        "colab": {
          "base_uri": "https://localhost:8080/",
          "height": 322
        },
        "id": "8uRXokUyyvHo",
        "outputId": "879cf8e5-6ee5-4f2e-a5de-070b89c5aa9a"
      },
      "execution_count": 8,
      "outputs": [
        {
          "output_type": "stream",
          "name": "stderr",
          "text": [
            "E\n",
            "======================================================================\n",
            "ERROR: /root/ (unittest.loader._FailedTest)\n",
            "----------------------------------------------------------------------\n",
            "AttributeError: module '__main__' has no attribute '/root/'\n",
            "\n",
            "----------------------------------------------------------------------\n",
            "Ran 1 test in 0.003s\n",
            "\n",
            "FAILED (errors=1)\n"
          ]
        },
        {
          "output_type": "error",
          "ename": "SystemExit",
          "evalue": "ignored",
          "traceback": [
            "An exception has occurred, use %tb to see the full traceback.\n",
            "\u001b[0;31mSystemExit\u001b[0m\u001b[0;31m:\u001b[0m True\n"
          ]
        },
        {
          "output_type": "stream",
          "name": "stderr",
          "text": [
            "/usr/local/lib/python3.7/dist-packages/IPython/core/interactiveshell.py:2890: UserWarning: To exit: use 'exit', 'quit', or Ctrl-D.\n",
            "  warn(\"To exit: use 'exit', 'quit', or Ctrl-D.\", stacklevel=1)\n"
          ]
        }
      ]
    },
    {
      "cell_type": "code",
      "source": [
        "cd /content/unit_testing_request"
      ],
      "metadata": {
        "colab": {
          "base_uri": "https://localhost:8080/"
        },
        "id": "a1-7h2RY_Gx4",
        "outputId": "54fae30d-c3af-4dd8-8cfa-beedee19d9dd"
      },
      "execution_count": 7,
      "outputs": [
        {
          "output_type": "stream",
          "name": "stdout",
          "text": [
            "/content/unit_testing_request\n"
          ]
        }
      ]
    },
    {
      "cell_type": "markdown",
      "source": [
        "## 2. My second unit test"
      ],
      "metadata": {
        "id": "nAzdDCgs7hXV"
      }
    },
    {
      "cell_type": "code",
      "source": [
        "!python3 ./mytest_run2.py"
      ],
      "metadata": {
        "colab": {
          "base_uri": "https://localhost:8080/"
        },
        "id": "rq79PM5q1Ql7",
        "outputId": "f868306f-cc04-47e8-ddd7-068dadcd1cb5"
      },
      "execution_count": 8,
      "outputs": [
        {
          "output_type": "stream",
          "name": "stdout",
          "text": [
            ".F\n",
            "======================================================================\n",
            "FAIL: test_sum (__main__.TestSumFunction)\n",
            "Test that it can assess if the results are equal to 6\n",
            "----------------------------------------------------------------------\n",
            "Traceback (most recent call last):\n",
            "  File \"./mytest_run2.py\", line 10, in test_sum\n",
            "    return self.assertEqual(sum_results, 6, \"even after too many beers, 3+3=6\")\n",
            "AssertionError: 9 != 6 : even after too many beers, 3+3=6\n",
            "\n",
            "----------------------------------------------------------------------\n",
            "Ran 2 tests in 0.000s\n",
            "\n",
            "FAILED (failures=1)\n"
          ]
        }
      ]
    },
    {
      "cell_type": "markdown",
      "source": [
        "### Advanced Testing Scenarios"
      ],
      "metadata": {
        "id": "eko59MGP3GGz"
      }
    },
    {
      "cell_type": "markdown",
      "source": [
        "some times you want to make sure you code **will fail** when the data does not have the right type. \n",
        "for example when you want to convert a **string of a float** *directly* into an **integer**\n",
        "\n",
        "ex: int('0.2') "
      ],
      "metadata": {
        "id": "DXpTUVe03IPs"
      }
    },
    {
      "cell_type": "markdown",
      "source": [
        "## 3. My third unit test"
      ],
      "metadata": {
        "id": "F4oVedzX7njy"
      }
    },
    {
      "cell_type": "code",
      "source": [
        "! python3 ./mytest_run.py"
      ],
      "metadata": {
        "colab": {
          "base_uri": "https://localhost:8080/"
        },
        "id": "I0R2EtLlymrM",
        "outputId": "1a6a4a71-3b6a-461d-bcb8-49da68031265"
      },
      "execution_count": 9,
      "outputs": [
        {
          "output_type": "stream",
          "name": "stdout",
          "text": [
            "..\n",
            "----------------------------------------------------------------------\n",
            "Ran 2 tests in 0.000s\n",
            "\n",
            "OK\n"
          ]
        }
      ]
    },
    {
      "cell_type": "code",
      "source": [
        "!touch ./mytest_run3.py"
      ],
      "metadata": {
        "id": "u3T6WEdi3-uN"
      },
      "execution_count": 10,
      "outputs": []
    },
    {
      "cell_type": "code",
      "source": [
        "import numpy as np\n",
        "type(np.array([1], dtype=np.uint8))"
      ],
      "metadata": {
        "colab": {
          "base_uri": "https://localhost:8080/"
        },
        "id": "6-4JDuu45wrv",
        "outputId": "36c344c3-b535-4735-ff0e-e3c935960688"
      },
      "execution_count": 11,
      "outputs": [
        {
          "output_type": "execute_result",
          "data": {
            "text/plain": [
              "numpy.ndarray"
            ]
          },
          "metadata": {},
          "execution_count": 11
        }
      ]
    },
    {
      "cell_type": "code",
      "source": [
        "np.array([1], dtype=np.uint8).dtype == 'uint8'"
      ],
      "metadata": {
        "colab": {
          "base_uri": "https://localhost:8080/"
        },
        "id": "FPylkufA6kwv",
        "outputId": "4059e6aa-bb23-4cc8-b4a0-79173bc19ca1"
      },
      "execution_count": 12,
      "outputs": [
        {
          "output_type": "execute_result",
          "data": {
            "text/plain": [
              "True"
            ]
          },
          "metadata": {},
          "execution_count": 12
        }
      ]
    },
    {
      "cell_type": "code",
      "source": [
        "! python3 ./mytest_run3.py"
      ],
      "metadata": {
        "colab": {
          "base_uri": "https://localhost:8080/"
        },
        "id": "sjXTrUh-66fD",
        "outputId": "46b44ecd-7aaa-4286-abc0-077c6cf624c8"
      },
      "execution_count": 13,
      "outputs": [
        {
          "output_type": "stream",
          "name": "stdout",
          "text": [
            "..\n",
            "----------------------------------------------------------------------\n",
            "Ran 2 tests in 0.000s\n",
            "\n",
            "OK\n"
          ]
        }
      ]
    },
    {
      "cell_type": "code",
      "source": [
        "! python3 ./mytest_run3.py"
      ],
      "metadata": {
        "colab": {
          "base_uri": "https://localhost:8080/"
        },
        "id": "jg1QgVIj7G0L",
        "outputId": "9624512d-c442-4506-e692-722d79b6c0fe"
      },
      "execution_count": 14,
      "outputs": [
        {
          "output_type": "stream",
          "name": "stdout",
          "text": [
            "..\n",
            "----------------------------------------------------------------------\n",
            "Ran 2 tests in 0.000s\n",
            "\n",
            "OK\n"
          ]
        }
      ]
    },
    {
      "cell_type": "markdown",
      "source": [
        "## 4. Linting"
      ],
      "metadata": {
        "id": "M2CQRf2S8fkh"
      }
    },
    {
      "cell_type": "code",
      "source": [
        "!pip3 install flake8"
      ],
      "metadata": {
        "colab": {
          "base_uri": "https://localhost:8080/"
        },
        "id": "XbPMw7vU7ZxF",
        "outputId": "a802a152-501f-46a6-8e9d-f742d6840258"
      },
      "execution_count": 30,
      "outputs": [
        {
          "output_type": "stream",
          "name": "stdout",
          "text": [
            "Requirement already satisfied: flake8 in /usr/local/lib/python3.7/dist-packages (4.0.1)\n",
            "Requirement already satisfied: mccabe<0.7.0,>=0.6.0 in /usr/local/lib/python3.7/dist-packages (from flake8) (0.6.1)\n",
            "Requirement already satisfied: importlib-metadata<4.3 in /usr/local/lib/python3.7/dist-packages (from flake8) (4.2.0)\n",
            "Requirement already satisfied: pycodestyle<2.9.0,>=2.8.0 in /usr/local/lib/python3.7/dist-packages (from flake8) (2.8.0)\n",
            "Requirement already satisfied: pyflakes<2.5.0,>=2.4.0 in /usr/local/lib/python3.7/dist-packages (from flake8) (2.4.0)\n",
            "Requirement already satisfied: typing-extensions>=3.6.4 in /usr/local/lib/python3.7/dist-packages (from importlib-metadata<4.3->flake8) (3.10.0.2)\n",
            "Requirement already satisfied: zipp>=0.5 in /usr/local/lib/python3.7/dist-packages (from importlib-metadata<4.3->flake8) (3.7.0)\n"
          ]
        }
      ]
    },
    {
      "cell_type": "code",
      "source": [
        "# flake will inspect the code quality\n",
        "import flake8"
      ],
      "metadata": {
        "id": "pLuBp7u98pe8"
      },
      "execution_count": 24,
      "outputs": []
    },
    {
      "cell_type": "code",
      "source": [
        "# flake8 will output the non-conformities\n",
        "!flake8 ./mytest_run3.py"
      ],
      "metadata": {
        "colab": {
          "base_uri": "https://localhost:8080/"
        },
        "id": "hwSsbngZ71Ml",
        "outputId": "11e8b30d-3944-40e1-f273-8bf5f70240ed"
      },
      "execution_count": 15,
      "outputs": [
        {
          "output_type": "stream",
          "name": "stdout",
          "text": [
            "./mytest_run3.py:3:1: F401 'my_first_tests.summi' imported but unused\n",
            "./mytest_run3.py:5:1: E302 expected 2 blank lines, found 1\n",
            "./mytest_run3.py:6:3: E111 indentation is not a multiple of 4\n",
            "./mytest_run3.py:10:3: E111 indentation is not a multiple of 4\n",
            "./mytest_run3.py:12:31: E231 missing whitespace after ','\n",
            "./mytest_run3.py:13:1: W293 blank line contains whitespace\n",
            "./mytest_run3.py:14:1: E305 expected 2 blank lines after class or function definition, found 1\n",
            "./mytest_run3.py:15:20: W292 no newline at end of file\n"
          ]
        }
      ]
    },
    {
      "cell_type": "code",
      "source": [
        "!flake8 ./mytest_run4.py"
      ],
      "metadata": {
        "id": "-tiM8sPr8zlc"
      },
      "execution_count": 16,
      "outputs": []
    },
    {
      "cell_type": "code",
      "source": [
        ""
      ],
      "metadata": {
        "id": "PsUpD9NV-eiu"
      },
      "execution_count": null,
      "outputs": []
    },
    {
      "cell_type": "code",
      "source": [
        ""
      ],
      "metadata": {
        "id": "M0dxMGwK-ATQ"
      },
      "execution_count": null,
      "outputs": []
    },
    {
      "cell_type": "markdown",
      "source": [
        "________________"
      ],
      "metadata": {
        "id": "wBljLXMU-ioQ"
      }
    },
    {
      "cell_type": "code",
      "source": [
        "# create a directory to save the files\n",
        "mkdir /content/unit_testing_request\n"
      ],
      "metadata": {
        "id": "2eKUnuOh9JHn"
      },
      "execution_count": 2,
      "outputs": []
    },
    {
      "cell_type": "code",
      "source": [
        "# zip all files\n",
        "!zip -r /content/unit_testing.zip /content/unit_testing_request/"
      ],
      "metadata": {
        "colab": {
          "base_uri": "https://localhost:8080/"
        },
        "id": "tfx3Aup_9wKg",
        "outputId": "f57e0a60-9ee2-42a5-d3e6-1ee39a81abff"
      },
      "execution_count": 3,
      "outputs": [
        {
          "output_type": "stream",
          "name": "stdout",
          "text": [
            "  adding: content/unit_testing_request/ (stored 0%)\n",
            "  adding: content/unit_testing_request/mytest_run3.py (deflated 46%)\n",
            "  adding: content/unit_testing_request/mytest_run2.py (deflated 41%)\n",
            "  adding: content/unit_testing_request/my_first_tests.py (deflated 47%)\n",
            "  adding: content/unit_testing_request/mytest_run4.py (deflated 55%)\n",
            "  adding: content/unit_testing_request/mytest_run.py (deflated 42%)\n"
          ]
        }
      ]
    },
    {
      "cell_type": "code",
      "source": [
        "!cp /content/unit_testing.zip /content/drive/MyDrive"
      ],
      "metadata": {
        "id": "N0P-4B8C92wx"
      },
      "execution_count": 4,
      "outputs": []
    }
  ]
}