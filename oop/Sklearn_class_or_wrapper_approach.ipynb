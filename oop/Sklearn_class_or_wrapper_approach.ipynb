{
  "nbformat": 4,
  "nbformat_minor": 0,
  "metadata": {
    "colab": {
      "name": "Sklearn_class_or_wrapper_approach.ipynb",
      "provenance": [],
      "collapsed_sections": []
    },
    "kernelspec": {
      "name": "python3",
      "display_name": "Python 3"
    },
    "language_info": {
      "name": "python"
    }
  },
  "cells": [
    {
      "cell_type": "code",
      "source": [
        "!pip install wget"
      ],
      "metadata": {
        "colab": {
          "base_uri": "https://localhost:8080/"
        },
        "id": "h9cPplBsydDh",
        "outputId": "acc97672-5ecf-437f-cd3d-28e5a7dda084"
      },
      "execution_count": null,
      "outputs": [
        {
          "output_type": "stream",
          "name": "stdout",
          "text": [
            "Collecting wget\n",
            "  Downloading wget-3.2.zip (10 kB)\n",
            "Building wheels for collected packages: wget\n",
            "  Building wheel for wget (setup.py) ... \u001b[?25l\u001b[?25hdone\n",
            "  Created wheel for wget: filename=wget-3.2-py3-none-any.whl size=9675 sha256=ee3d728ea3bdecfff7e9b5d365ee6f70ca5109490ef3fafc3852b2c103770200\n",
            "  Stored in directory: /root/.cache/pip/wheels/a1/b6/7c/0e63e34eb06634181c63adacca38b79ff8f35c37e3c13e3c02\n",
            "Successfully built wget\n",
            "Installing collected packages: wget\n",
            "Successfully installed wget-3.2\n"
          ]
        }
      ]
    },
    {
      "cell_type": "code",
      "execution_count": null,
      "metadata": {
        "id": "rIL-aHYenICy"
      },
      "outputs": [],
      "source": [
        "import pandas as pd\n",
        "import re\n",
        "from sklearn.model_selection import train_test_split\n",
        "from sklearn.linear_model import LogisticRegression\n",
        "import wget\n",
        "import os"
      ]
    },
    {
      "cell_type": "code",
      "source": [
        "class Dataset():\n",
        "  def __init__(self, dataset_name):\n",
        "    # initialisation with df, df_train,df_test\n",
        "    self.df = self.load_dataset(dataset_name)\n",
        "    self.init_ml()\n",
        "\n",
        "  def init_ml(self):\n",
        "    # we could define them only in the functions\n",
        "    # for readability we initialize them in this sub init function\n",
        "    self.df_train = None\n",
        "    self.df_test = None\n",
        "    self.X_train = None\n",
        "    self.X_test = None\n",
        "    self.Y_train = None\n",
        "    self.Y_test = None\n",
        "  \n",
        "  def load_dataset(self,dataset_name):\n",
        "    '''\n",
        "    load the dataset provided by its name (takes care of typos :))\n",
        "    '''\n",
        "    if re.match(\"i|Ir*\",dataset_name,re.IGNORECASE):\n",
        "      return self.load_iris()\n",
        "\n",
        "  def load_iris(self, iris_path = \"/content/iris.data\"):\n",
        "    # if the file does not exist it wil download it\n",
        "    if not os.path.exists(iris_path):\n",
        "      wget.download(url =\"https://archive.ics.uci.edu/ml/machine-learning-databases/iris/iris.data\")  \n",
        "    # read the file without header and with the comma as separator\n",
        "    df = pd.read_csv(iris_path, header=None, sep=',')\n",
        "    # the columns to add to the dataframe\n",
        "    df.columns =[\"sepal_length\", \"sepal_width\", \"petal_length\", \"petal_width\", \"class\"]\n",
        "    return df\n",
        "\n",
        "  def transform_data(self, col_name):\n",
        "    '''\n",
        "    converts the column into categories\n",
        "    '''\n",
        "    self.df[col_name] = self.df[col_name].astype('category').cat.codes\n",
        "\n",
        "\n",
        "  def train_test_split(self,train_size =0.8):\n",
        "    '''\n",
        "    function which splits the dataset into train & test dataframes\n",
        "    '''\n",
        "    self.df_train, self.df_test = train_test_split(self.df)\n",
        "\n",
        "  def prepare_for_ml(self, target_col_name=\"class\"):\n",
        "    '''\n",
        "    function which prepares X_train,Y_train, X_test, Y_test\n",
        "    '''\n",
        "    # this function can only run if the train & test dataframes have been loaded\n",
        "    assert self.df_train.shape[0] > 0, \"df_train was not created, run train_test_split before\"\n",
        "    assert self.df_test.shape[0] > 0, \"df_test was not created, run train_test_split before\"\n",
        "\n",
        "    # we create X_train and X_test by dropping a column\n",
        "    self.X_train = self.df_train.drop(target_col_name,axis=1)\n",
        "    self.Y_train = self.df_train[target_col_name]\n",
        "    self.X_test = self.df_test.drop(target_col_name, axis=1)\n",
        "    self.Y_test = self.df_test[target_col_name]\n",
        "\n",
        "\n",
        "  def __repr__(self):\n",
        "    return(f\"iris dataset, {self.df_train.shape[0]} train observations & {self.df_test.shape[0]} test observations\")"
      ],
      "metadata": {
        "id": "kOhNdeNKnXy3"
      },
      "execution_count": null,
      "outputs": []
    },
    {
      "cell_type": "code",
      "source": [
        "iris_dataset = Dataset(dataset_name = 'iris')"
      ],
      "metadata": {
        "id": "N-JT1XKknooX"
      },
      "execution_count": null,
      "outputs": []
    },
    {
      "cell_type": "code",
      "source": [
        "iris_dataset.transform_data(\"class\")"
      ],
      "metadata": {
        "id": "IZPMXpKFoeAD"
      },
      "execution_count": null,
      "outputs": []
    },
    {
      "cell_type": "code",
      "source": [
        "iris_dataset.train_test_split()"
      ],
      "metadata": {
        "id": "salAlkoRqtgF"
      },
      "execution_count": null,
      "outputs": []
    },
    {
      "cell_type": "code",
      "source": [
        "iris_dataset.prepare_for_ml()"
      ],
      "metadata": {
        "id": "W8nlODozq0SB"
      },
      "execution_count": null,
      "outputs": []
    },
    {
      "cell_type": "code",
      "source": [
        "iris_dataset.X_train"
      ],
      "metadata": {
        "colab": {
          "base_uri": "https://localhost:8080/",
          "height": 424
        },
        "id": "SeN4-UuiolI7",
        "outputId": "7ff47447-511d-4c75-e2d4-b7088677ecb7"
      },
      "execution_count": null,
      "outputs": [
        {
          "output_type": "execute_result",
          "data": {
            "text/html": [
              "\n",
              "  <div id=\"df-dec1dc72-d082-4432-8f89-34bce3037a65\">\n",
              "    <div class=\"colab-df-container\">\n",
              "      <div>\n",
              "<style scoped>\n",
              "    .dataframe tbody tr th:only-of-type {\n",
              "        vertical-align: middle;\n",
              "    }\n",
              "\n",
              "    .dataframe tbody tr th {\n",
              "        vertical-align: top;\n",
              "    }\n",
              "\n",
              "    .dataframe thead th {\n",
              "        text-align: right;\n",
              "    }\n",
              "</style>\n",
              "<table border=\"1\" class=\"dataframe\">\n",
              "  <thead>\n",
              "    <tr style=\"text-align: right;\">\n",
              "      <th></th>\n",
              "      <th>sepal_length</th>\n",
              "      <th>sepal_width</th>\n",
              "      <th>petal_length</th>\n",
              "      <th>petal_width</th>\n",
              "    </tr>\n",
              "  </thead>\n",
              "  <tbody>\n",
              "    <tr>\n",
              "      <th>20</th>\n",
              "      <td>5.4</td>\n",
              "      <td>3.4</td>\n",
              "      <td>1.7</td>\n",
              "      <td>0.2</td>\n",
              "    </tr>\n",
              "    <tr>\n",
              "      <th>124</th>\n",
              "      <td>6.7</td>\n",
              "      <td>3.3</td>\n",
              "      <td>5.7</td>\n",
              "      <td>2.1</td>\n",
              "    </tr>\n",
              "    <tr>\n",
              "      <th>102</th>\n",
              "      <td>7.1</td>\n",
              "      <td>3.0</td>\n",
              "      <td>5.9</td>\n",
              "      <td>2.1</td>\n",
              "    </tr>\n",
              "    <tr>\n",
              "      <th>80</th>\n",
              "      <td>5.5</td>\n",
              "      <td>2.4</td>\n",
              "      <td>3.8</td>\n",
              "      <td>1.1</td>\n",
              "    </tr>\n",
              "    <tr>\n",
              "      <th>127</th>\n",
              "      <td>6.1</td>\n",
              "      <td>3.0</td>\n",
              "      <td>4.9</td>\n",
              "      <td>1.8</td>\n",
              "    </tr>\n",
              "    <tr>\n",
              "      <th>...</th>\n",
              "      <td>...</td>\n",
              "      <td>...</td>\n",
              "      <td>...</td>\n",
              "      <td>...</td>\n",
              "    </tr>\n",
              "    <tr>\n",
              "      <th>65</th>\n",
              "      <td>6.7</td>\n",
              "      <td>3.1</td>\n",
              "      <td>4.4</td>\n",
              "      <td>1.4</td>\n",
              "    </tr>\n",
              "    <tr>\n",
              "      <th>128</th>\n",
              "      <td>6.4</td>\n",
              "      <td>2.8</td>\n",
              "      <td>5.6</td>\n",
              "      <td>2.1</td>\n",
              "    </tr>\n",
              "    <tr>\n",
              "      <th>70</th>\n",
              "      <td>5.9</td>\n",
              "      <td>3.2</td>\n",
              "      <td>4.8</td>\n",
              "      <td>1.8</td>\n",
              "    </tr>\n",
              "    <tr>\n",
              "      <th>88</th>\n",
              "      <td>5.6</td>\n",
              "      <td>3.0</td>\n",
              "      <td>4.1</td>\n",
              "      <td>1.3</td>\n",
              "    </tr>\n",
              "    <tr>\n",
              "      <th>85</th>\n",
              "      <td>6.0</td>\n",
              "      <td>3.4</td>\n",
              "      <td>4.5</td>\n",
              "      <td>1.6</td>\n",
              "    </tr>\n",
              "  </tbody>\n",
              "</table>\n",
              "<p>112 rows × 4 columns</p>\n",
              "</div>\n",
              "      <button class=\"colab-df-convert\" onclick=\"convertToInteractive('df-dec1dc72-d082-4432-8f89-34bce3037a65')\"\n",
              "              title=\"Convert this dataframe to an interactive table.\"\n",
              "              style=\"display:none;\">\n",
              "        \n",
              "  <svg xmlns=\"http://www.w3.org/2000/svg\" height=\"24px\"viewBox=\"0 0 24 24\"\n",
              "       width=\"24px\">\n",
              "    <path d=\"M0 0h24v24H0V0z\" fill=\"none\"/>\n",
              "    <path d=\"M18.56 5.44l.94 2.06.94-2.06 2.06-.94-2.06-.94-.94-2.06-.94 2.06-2.06.94zm-11 1L8.5 8.5l.94-2.06 2.06-.94-2.06-.94L8.5 2.5l-.94 2.06-2.06.94zm10 10l.94 2.06.94-2.06 2.06-.94-2.06-.94-.94-2.06-.94 2.06-2.06.94z\"/><path d=\"M17.41 7.96l-1.37-1.37c-.4-.4-.92-.59-1.43-.59-.52 0-1.04.2-1.43.59L10.3 9.45l-7.72 7.72c-.78.78-.78 2.05 0 2.83L4 21.41c.39.39.9.59 1.41.59.51 0 1.02-.2 1.41-.59l7.78-7.78 2.81-2.81c.8-.78.8-2.07 0-2.86zM5.41 20L4 18.59l7.72-7.72 1.47 1.35L5.41 20z\"/>\n",
              "  </svg>\n",
              "      </button>\n",
              "      \n",
              "  <style>\n",
              "    .colab-df-container {\n",
              "      display:flex;\n",
              "      flex-wrap:wrap;\n",
              "      gap: 12px;\n",
              "    }\n",
              "\n",
              "    .colab-df-convert {\n",
              "      background-color: #E8F0FE;\n",
              "      border: none;\n",
              "      border-radius: 50%;\n",
              "      cursor: pointer;\n",
              "      display: none;\n",
              "      fill: #1967D2;\n",
              "      height: 32px;\n",
              "      padding: 0 0 0 0;\n",
              "      width: 32px;\n",
              "    }\n",
              "\n",
              "    .colab-df-convert:hover {\n",
              "      background-color: #E2EBFA;\n",
              "      box-shadow: 0px 1px 2px rgba(60, 64, 67, 0.3), 0px 1px 3px 1px rgba(60, 64, 67, 0.15);\n",
              "      fill: #174EA6;\n",
              "    }\n",
              "\n",
              "    [theme=dark] .colab-df-convert {\n",
              "      background-color: #3B4455;\n",
              "      fill: #D2E3FC;\n",
              "    }\n",
              "\n",
              "    [theme=dark] .colab-df-convert:hover {\n",
              "      background-color: #434B5C;\n",
              "      box-shadow: 0px 1px 3px 1px rgba(0, 0, 0, 0.15);\n",
              "      filter: drop-shadow(0px 1px 2px rgba(0, 0, 0, 0.3));\n",
              "      fill: #FFFFFF;\n",
              "    }\n",
              "  </style>\n",
              "\n",
              "      <script>\n",
              "        const buttonEl =\n",
              "          document.querySelector('#df-dec1dc72-d082-4432-8f89-34bce3037a65 button.colab-df-convert');\n",
              "        buttonEl.style.display =\n",
              "          google.colab.kernel.accessAllowed ? 'block' : 'none';\n",
              "\n",
              "        async function convertToInteractive(key) {\n",
              "          const element = document.querySelector('#df-dec1dc72-d082-4432-8f89-34bce3037a65');\n",
              "          const dataTable =\n",
              "            await google.colab.kernel.invokeFunction('convertToInteractive',\n",
              "                                                     [key], {});\n",
              "          if (!dataTable) return;\n",
              "\n",
              "          const docLinkHtml = 'Like what you see? Visit the ' +\n",
              "            '<a target=\"_blank\" href=https://colab.research.google.com/notebooks/data_table.ipynb>data table notebook</a>'\n",
              "            + ' to learn more about interactive tables.';\n",
              "          element.innerHTML = '';\n",
              "          dataTable['output_type'] = 'display_data';\n",
              "          await google.colab.output.renderOutput(dataTable, element);\n",
              "          const docLink = document.createElement('div');\n",
              "          docLink.innerHTML = docLinkHtml;\n",
              "          element.appendChild(docLink);\n",
              "        }\n",
              "      </script>\n",
              "    </div>\n",
              "  </div>\n",
              "  "
            ],
            "text/plain": [
              "     sepal_length  sepal_width  petal_length  petal_width\n",
              "20            5.4          3.4           1.7          0.2\n",
              "124           6.7          3.3           5.7          2.1\n",
              "102           7.1          3.0           5.9          2.1\n",
              "80            5.5          2.4           3.8          1.1\n",
              "127           6.1          3.0           4.9          1.8\n",
              "..            ...          ...           ...          ...\n",
              "65            6.7          3.1           4.4          1.4\n",
              "128           6.4          2.8           5.6          2.1\n",
              "70            5.9          3.2           4.8          1.8\n",
              "88            5.6          3.0           4.1          1.3\n",
              "85            6.0          3.4           4.5          1.6\n",
              "\n",
              "[112 rows x 4 columns]"
            ]
          },
          "metadata": {},
          "execution_count": 161
        }
      ]
    },
    {
      "cell_type": "code",
      "source": [
        "iris_dataset.Y_train"
      ],
      "metadata": {
        "colab": {
          "base_uri": "https://localhost:8080/"
        },
        "id": "eODRxUX1pP6X",
        "outputId": "40705461-ab2c-432a-82e4-54104b0181c1"
      },
      "execution_count": null,
      "outputs": [
        {
          "output_type": "execute_result",
          "data": {
            "text/plain": [
              "20     0\n",
              "124    2\n",
              "102    2\n",
              "80     1\n",
              "127    2\n",
              "      ..\n",
              "65     1\n",
              "128    2\n",
              "70     1\n",
              "88     1\n",
              "85     1\n",
              "Name: class, Length: 112, dtype: int8"
            ]
          },
          "metadata": {},
          "execution_count": 162
        }
      ]
    },
    {
      "cell_type": "code",
      "source": [
        "class ML_Model():\n",
        "\n",
        "  def __init__(self,model_name):\n",
        "\n",
        "    # pick the model based on the model_name\n",
        "    self.load_model(model_name)\n",
        "    self.score = 0\n",
        "    self.trained = False\n",
        "\n",
        "  def load_model(self, model_name, iterations= 1000):\n",
        "    if re.match(\"(linear)\\s{1,3}(re|ég)(ress?ion)?\", model_name, re.IGNORECASE) :  \n",
        "      self.model = self.load_lr(max_iterations = iterations)\n",
        "\n",
        "  def load_lr(self, max_iterations):\n",
        "    '''\n",
        "    launch/instantiates a linear regression model with max_iterations\n",
        "    '''\n",
        "\n",
        "    lr = LogisticRegression(max_iter=max_iterations)\n",
        "    return lr\n",
        "\n",
        "  def fit(self,data):\n",
        "    '''\n",
        "    fit the model to the data and set an inner flag to True\n",
        "    '''\n",
        "    X = data.X_train\n",
        "    y = data.Y_train\n",
        "    self.model = self.model.fit(X, y)\n",
        "    self.trained = True\n",
        "\n",
        "  def predict_evaluate(self,data):\n",
        "    '''\n",
        "    predict and evaluate on the test set in a dataset\n",
        "    '''\n",
        "    X_test = data.X_test\n",
        "    Y_test = data.Y_test\n",
        "    predictions = self.model.predict(X_test)\n",
        "    self.score = self.model.score(X_test, Y_test.values.reshape(-1,1))\n",
        "    return self.score\n",
        "\n",
        "\n",
        "  def __repr__(self):\n",
        "    '''\n",
        "    display our model via print()\n",
        "    '''\n",
        "    if self.trained:\n",
        "      return(f\"the model is of type :{self.model.__repr__()} and the score of the current trained model is : {self.score}\")\n",
        "    else:\n",
        "      return self.model.__repr__()\n"
      ],
      "metadata": {
        "id": "8lKtOFjmrQ5-"
      },
      "execution_count": null,
      "outputs": []
    },
    {
      "cell_type": "code",
      "source": [
        "# we instantiate a ML_model of type linear regression\n",
        "lr1 = ML_Model(\"linear reg\")\n",
        "lr1.model.__repr__()"
      ],
      "metadata": {
        "colab": {
          "base_uri": "https://localhost:8080/",
          "height": 35
        },
        "id": "FryvIScisriU",
        "outputId": "28089cb0-e7fe-4b1a-b8db-d752c7b05306"
      },
      "execution_count": null,
      "outputs": [
        {
          "output_type": "execute_result",
          "data": {
            "application/vnd.google.colaboratory.intrinsic+json": {
              "type": "string"
            },
            "text/plain": [
              "'LogisticRegression(max_iter=1000)'"
            ]
          },
          "metadata": {},
          "execution_count": 164
        }
      ]
    },
    {
      "cell_type": "code",
      "source": [
        "# we fit a dataset (of type Dataset)\n",
        "print(iris_dataset)\n",
        "lr1.fit(iris_dataset)"
      ],
      "metadata": {
        "colab": {
          "base_uri": "https://localhost:8080/"
        },
        "id": "jB_kb4NTsxiF",
        "outputId": "a1eddde0-139d-4cf3-e350-2ba6ec9e95e1"
      },
      "execution_count": null,
      "outputs": [
        {
          "output_type": "stream",
          "name": "stdout",
          "text": [
            "iris dataset, 112 train observations & 38 test observations\n"
          ]
        }
      ]
    },
    {
      "cell_type": "code",
      "source": [
        "lr1.predict_evaluate(iris_dataset)"
      ],
      "metadata": {
        "colab": {
          "base_uri": "https://localhost:8080/"
        },
        "id": "_C-84cBwtTb0",
        "outputId": "1eeff7e8-08a7-42fd-af83-c3a2882b16b1"
      },
      "execution_count": null,
      "outputs": [
        {
          "output_type": "execute_result",
          "data": {
            "text/plain": [
              "0.9736842105263158"
            ]
          },
          "metadata": {},
          "execution_count": 166
        }
      ]
    },
    {
      "cell_type": "code",
      "source": [
        "print(lr1)"
      ],
      "metadata": {
        "colab": {
          "base_uri": "https://localhost:8080/"
        },
        "id": "VwHkhJtlttOl",
        "outputId": "050e0ed1-7fe0-4714-a979-d5bacde4ec52"
      },
      "execution_count": null,
      "outputs": [
        {
          "output_type": "stream",
          "name": "stdout",
          "text": [
            "the model is of type :LogisticRegression(max_iter=1000) and the score of the current trained model is : 0.9736842105263158\n"
          ]
        }
      ]
    }
  ]
}